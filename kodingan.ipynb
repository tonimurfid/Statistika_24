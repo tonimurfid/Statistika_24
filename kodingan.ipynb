{
 "cells": [
  {
   "cell_type": "code",
   "execution_count": 1,
   "metadata": {},
   "outputs": [],
   "source": [
    "import pandas as pd \n",
    "import numpy as np \n",
    "import matplotlib.pyplot as plt"
   ]
  },
  {
   "cell_type": "code",
   "execution_count": 2,
   "metadata": {},
   "outputs": [
    {
     "data": {
      "text/html": [
       "<div>\n",
       "<style scoped>\n",
       "    .dataframe tbody tr th:only-of-type {\n",
       "        vertical-align: middle;\n",
       "    }\n",
       "\n",
       "    .dataframe tbody tr th {\n",
       "        vertical-align: top;\n",
       "    }\n",
       "\n",
       "    .dataframe thead th {\n",
       "        text-align: right;\n",
       "    }\n",
       "</style>\n",
       "<table border=\"1\" class=\"dataframe\">\n",
       "  <thead>\n",
       "    <tr style=\"text-align: right;\">\n",
       "      <th></th>\n",
       "      <th>no</th>\n",
       "      <th>tanggal</th>\n",
       "      <th>waktu</th>\n",
       "      <th>lintang</th>\n",
       "      <th>bujur</th>\n",
       "      <th>depth</th>\n",
       "      <th>magnitudo</th>\n",
       "      <th>type</th>\n",
       "      <th>smaj</th>\n",
       "      <th>smin</th>\n",
       "      <th>az</th>\n",
       "      <th>rms</th>\n",
       "      <th>cphase</th>\n",
       "      <th>region</th>\n",
       "    </tr>\n",
       "  </thead>\n",
       "  <tbody>\n",
       "    <tr>\n",
       "      <th>1</th>\n",
       "      <td>1</td>\n",
       "      <td>1/1/2018</td>\n",
       "      <td>00:43:05 UTC</td>\n",
       "      <td>11.65 LS</td>\n",
       "      <td>117.61 BT</td>\n",
       "      <td>10 Km</td>\n",
       "      <td>4.2 SR</td>\n",
       "      <td>MLv</td>\n",
       "      <td>7.912</td>\n",
       "      <td>2.807</td>\n",
       "      <td>233</td>\n",
       "      <td>0.581</td>\n",
       "      <td>14</td>\n",
       "      <td>South of Sumbawa, Indonesia</td>\n",
       "    </tr>\n",
       "    <tr>\n",
       "      <th>2</th>\n",
       "      <td>2</td>\n",
       "      <td>1/1/2018</td>\n",
       "      <td>00:52:32 UTC</td>\n",
       "      <td>0.33 LS</td>\n",
       "      <td>123.73 BT</td>\n",
       "      <td>112 Km</td>\n",
       "      <td>5.1 SR</td>\n",
       "      <td>MLv</td>\n",
       "      <td>10.316</td>\n",
       "      <td>0.932</td>\n",
       "      <td>54</td>\n",
       "      <td>0.904</td>\n",
       "      <td>39</td>\n",
       "      <td>Minahassa Peninsula, Sulawesi</td>\n",
       "    </tr>\n",
       "    <tr>\n",
       "      <th>3</th>\n",
       "      <td>3</td>\n",
       "      <td>1/1/2018</td>\n",
       "      <td>02:47:53 UTC</td>\n",
       "      <td>1.4 LS</td>\n",
       "      <td>120.47 BT</td>\n",
       "      <td>10 Km</td>\n",
       "      <td>2.4 SR</td>\n",
       "      <td>MLv</td>\n",
       "      <td>3.22</td>\n",
       "      <td>1.196</td>\n",
       "      <td>137</td>\n",
       "      <td>0.682</td>\n",
       "      <td>5</td>\n",
       "      <td>Sulawesi, Indonesia</td>\n",
       "    </tr>\n",
       "    <tr>\n",
       "      <th>4</th>\n",
       "      <td>4</td>\n",
       "      <td>1/1/2018</td>\n",
       "      <td>03:03:26 UTC</td>\n",
       "      <td>9.42 LS</td>\n",
       "      <td>117.9 BT</td>\n",
       "      <td>24 Km</td>\n",
       "      <td>2.4 SR</td>\n",
       "      <td>MLv</td>\n",
       "      <td>1.206</td>\n",
       "      <td>0.596</td>\n",
       "      <td>279</td>\n",
       "      <td>0.122</td>\n",
       "      <td>6</td>\n",
       "      <td>Sumbawa Region, Indonesia</td>\n",
       "    </tr>\n",
       "    <tr>\n",
       "      <th>5</th>\n",
       "      <td>5</td>\n",
       "      <td>1/1/2018</td>\n",
       "      <td>03:07:09 UTC</td>\n",
       "      <td>1.42 LU</td>\n",
       "      <td>122.04 BT</td>\n",
       "      <td>17 Km</td>\n",
       "      <td>1.9 SR</td>\n",
       "      <td>MLv</td>\n",
       "      <td>1.299</td>\n",
       "      <td>0.533</td>\n",
       "      <td>232</td>\n",
       "      <td>0.027</td>\n",
       "      <td>5</td>\n",
       "      <td>Minahassa Peninsula, Sulawesi</td>\n",
       "    </tr>\n",
       "  </tbody>\n",
       "</table>\n",
       "</div>"
      ],
      "text/plain": [
       "  no   tanggal         waktu   lintang      bujur   depth magnitudo type  \\\n",
       "1  1  1/1/2018  00:43:05 UTC  11.65 LS  117.61 BT   10 Km    4.2 SR  MLv   \n",
       "2  2  1/1/2018  00:52:32 UTC   0.33 LS  123.73 BT  112 Km    5.1 SR  MLv   \n",
       "3  3  1/1/2018  02:47:53 UTC    1.4 LS  120.47 BT   10 Km    2.4 SR  MLv   \n",
       "4  4  1/1/2018  03:03:26 UTC   9.42 LS   117.9 BT   24 Km    2.4 SR  MLv   \n",
       "5  5  1/1/2018  03:07:09 UTC   1.42 LU  122.04 BT   17 Km    1.9 SR  MLv   \n",
       "\n",
       "     smaj   smin   az    rms cphase                         region  \n",
       "1   7.912  2.807  233  0.581     14    South of Sumbawa, Indonesia  \n",
       "2  10.316  0.932   54  0.904     39  Minahassa Peninsula, Sulawesi  \n",
       "3    3.22  1.196  137  0.682      5            Sulawesi, Indonesia  \n",
       "4   1.206  0.596  279  0.122      6      Sumbawa Region, Indonesia  \n",
       "5   1.299  0.533  232  0.027      5  Minahassa Peninsula, Sulawesi  "
      ]
     },
     "execution_count": 2,
     "metadata": {},
     "output_type": "execute_result"
    }
   ],
   "source": [
    "kolom = ['no','tanggal','waktu','lintang','bujur','depth','magnitudo','type','smaj','smin','az','rms','cphase','region']\n",
    "df = pd.read_csv('https://raw.githubusercontent.com/tonimurfid/Statistika_24/main/2018.csv',names=kolom)\n",
    "df.drop(0,inplace=True)\n",
    "df.head(5)"
   ]
  },
  {
   "cell_type": "code",
   "execution_count": 3,
   "metadata": {},
   "outputs": [
    {
     "name": "stdout",
     "output_type": "stream",
     "text": [
      "<class 'pandas.core.frame.DataFrame'>\n",
      "RangeIndex: 6667 entries, 1 to 6667\n",
      "Data columns (total 14 columns):\n",
      " #   Column     Non-Null Count  Dtype \n",
      "---  ------     --------------  ----- \n",
      " 0   no         5951 non-null   object\n",
      " 1   tanggal    6667 non-null   object\n",
      " 2   waktu      6667 non-null   object\n",
      " 3   lintang    6667 non-null   object\n",
      " 4   bujur      6667 non-null   object\n",
      " 5   depth      6667 non-null   object\n",
      " 6   magnitudo  6667 non-null   object\n",
      " 7   type       6667 non-null   object\n",
      " 8   smaj       6667 non-null   object\n",
      " 9   smin       6667 non-null   object\n",
      " 10  az         6667 non-null   object\n",
      " 11  rms        6667 non-null   object\n",
      " 12  cphase     6667 non-null   object\n",
      " 13  region     6667 non-null   object\n",
      "dtypes: object(14)\n",
      "memory usage: 729.3+ KB\n"
     ]
    }
   ],
   "source": [
    "df.info()"
   ]
  },
  {
   "cell_type": "code",
   "execution_count": 10,
   "metadata": {},
   "outputs": [],
   "source": [
    "df['no'] = df['no'].astype(float)\n",
    "df['tanggal'] = df['tanggal'].astype(str)\n",
    "df['waktu'] = df['waktu'].astype(str)\n",
    "df['lintang'] = df['lintang'].astype(str)\n",
    "df['bujur'] = df['bujur'].astype(str)\n",
    "df['depth'] = df['depth'].astype(str)\n",
    "df['magnitudo'] = df['magnitudo'].astype(str)\n",
    "df['smaj'] = df['smaj'].astype(float)\n",
    "df['smin'] = df['smin'].astype(float)\n",
    "df['az'] = df['az'].astype(float)\n",
    "df['rms'] = df['rms'].astype(float)\n",
    "df['cphase'] = df['cphase'].astype(float)\n",
    "df['region'] = df['region'].astype(str)"
   ]
  },
  {
   "cell_type": "code",
   "execution_count": 11,
   "metadata": {},
   "outputs": [
    {
     "name": "stdout",
     "output_type": "stream",
     "text": [
      "<class 'pandas.core.series.Series'>\n",
      "RangeIndex: 6667 entries, 1 to 6667\n",
      "Series name: depth\n",
      "Non-Null Count  Dtype \n",
      "--------------  ----- \n",
      "6667 non-null   object\n",
      "dtypes: object(1)\n",
      "memory usage: 52.2+ KB\n"
     ]
    }
   ],
   "source": [
    "df['depth'].info()"
   ]
  },
  {
   "cell_type": "code",
   "execution_count": 8,
   "metadata": {},
   "outputs": [
    {
     "ename": "TypeError",
     "evalue": "'method' object is not subscriptable",
     "output_type": "error",
     "traceback": [
      "\u001b[1;31m---------------------------------------------------------------------------\u001b[0m",
      "\u001b[1;31mTypeError\u001b[0m                                 Traceback (most recent call last)",
      "\u001b[1;32md:\\Tugas_Statistika\\Statistika_24\\kodingan.ipynb Cell 5\u001b[0m line \u001b[0;36m1\n\u001b[1;32m----> <a href='vscode-notebook-cell:/d%3A/Tugas_Statistika/Statistika_24/kodingan.ipynb#W3sZmlsZQ%3D%3D?line=0'>1</a>\u001b[0m df[\u001b[39m'\u001b[39m\u001b[39mdepth\u001b[39m\u001b[39m'\u001b[39m] \u001b[39m=\u001b[39m df[\u001b[39m'\u001b[39;49m\u001b[39mdepth\u001b[39;49m\u001b[39m'\u001b[39;49m]\u001b[39m.\u001b[39;49mapply[\u001b[39mlambda\u001b[39;49;00m x: x\u001b[39m.\u001b[39;49msplit(\u001b[39m\"\u001b[39;49m\u001b[39m \u001b[39;49m\u001b[39m\"\u001b[39;49m)[\u001b[39m1\u001b[39;49m]]\n",
      "\u001b[1;31mTypeError\u001b[0m: 'method' object is not subscriptable"
     ]
    }
   ],
   "source": [
    "df['depth'] = df['depth'].apply[lambda x: x.split(\" \")[1]]"
   ]
  }
 ],
 "metadata": {
  "kernelspec": {
   "display_name": "Python 3",
   "language": "python",
   "name": "python3"
  },
  "language_info": {
   "codemirror_mode": {
    "name": "ipython",
    "version": 3
   },
   "file_extension": ".py",
   "mimetype": "text/x-python",
   "name": "python",
   "nbconvert_exporter": "python",
   "pygments_lexer": "ipython3",
   "version": "3.11.8"
  },
  "orig_nbformat": 4
 },
 "nbformat": 4,
 "nbformat_minor": 2
}
