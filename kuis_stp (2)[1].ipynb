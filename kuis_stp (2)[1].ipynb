{
 "cells": [
  {
   "cell_type": "code",
   "execution_count": 1,
   "id": "8cdd587e-4a36-41c2-8086-a99529305e1e",
   "metadata": {},
   "outputs": [],
   "source": [
    "import pandas as pd\n",
    "import numpy as np\n",
    "import math"
   ]
  },
  {
   "cell_type": "code",
   "execution_count": 2,
   "id": "52bc7049-b2d1-4f43-afbc-159fd19dd9d4",
   "metadata": {},
   "outputs": [],
   "source": [
    "data = [40, 20, 50, 10, 40, 80, 70, 80, 40, 80, 20, 70, 20, 70, 75, 45, 17, 58, 35, 64, 30, 70, 10]\n",
    "# data = [30, 20, 50, 30, 40, 80, 70, 80, 40, 70, 20, 70, 20, 70, 75, 45, 20, 60, 35, 64, 50, 70, 30]\n",
    "data = pd.DataFrame(data, columns=['nilai'])"
   ]
  },
  {
   "cell_type": "markdown",
   "id": "4a4cae2d-9640-48d8-b7db-bbeb852b825c",
   "metadata": {},
   "source": [
    "## Data Tunggal"
   ]
  },
  {
   "cell_type": "markdown",
   "id": "40553ca5-6817-4b2c-93c4-8b4a88677767",
   "metadata": {},
   "source": [
    "### Modus"
   ]
  },
  {
   "cell_type": "code",
   "execution_count": 3,
   "id": "d2007540-9dbd-41a5-98d7-da8f2be54b70",
   "metadata": {},
   "outputs": [
    {
     "data": {
      "text/plain": [
       "nilai\n",
       "70    4\n",
       "40    3\n",
       "20    3\n",
       "80    3\n",
       "10    2\n",
       "50    1\n",
       "75    1\n",
       "45    1\n",
       "17    1\n",
       "58    1\n",
       "35    1\n",
       "64    1\n",
       "30    1\n",
       "Name: count, dtype: int64"
      ]
     },
     "execution_count": 3,
     "metadata": {},
     "output_type": "execute_result"
    }
   ],
   "source": [
    "modus_tunggal = data['nilai'].value_counts()\n",
    "modus_tunggal"
   ]
  },
  {
   "cell_type": "markdown",
   "id": "4c1eb0d1-bf4d-4b41-8792-f3712c5c33ca",
   "metadata": {},
   "source": [
    "### Desil"
   ]
  },
  {
   "cell_type": "code",
   "execution_count": 4,
   "id": "327560d1-a6ae-4031-83c8-af5a523b42da",
   "metadata": {},
   "outputs": [
    {
     "data": {
      "text/plain": [
       "0.1    17.6\n",
       "0.2    20.0\n",
       "0.3    33.0\n",
       "0.4    40.0\n",
       "0.5    45.0\n",
       "0.6    59.2\n",
       "0.7    70.0\n",
       "0.8    70.0\n",
       "0.9    79.0\n",
       "1.0    80.0\n",
       "Name: nilai, dtype: float64"
      ]
     },
     "execution_count": 4,
     "metadata": {},
     "output_type": "execute_result"
    }
   ],
   "source": [
    "desil_tunggal = data['nilai'].quantile([0.1, 0.2, 0.3, 0.4, 0.5, 0.6, 0.7, 0.8, 0.9, 1.0])\n",
    "desil_tunggal"
   ]
  },
  {
   "cell_type": "markdown",
   "id": "039a7f70-2a44-4bf4-9e28-d51712db6f46",
   "metadata": {},
   "source": [
    "### Range"
   ]
  },
  {
   "cell_type": "code",
   "execution_count": 5,
   "id": "75b59423-0f88-4b74-b5f9-dc5693844ed4",
   "metadata": {},
   "outputs": [
    {
     "data": {
      "text/plain": [
       "70"
      ]
     },
     "execution_count": 5,
     "metadata": {},
     "output_type": "execute_result"
    }
   ],
   "source": [
    "J = data['nilai'].max() - data['nilai'].min()\n",
    "J"
   ]
  },
  {
   "cell_type": "markdown",
   "id": "22f0a3b4-6b73-4de1-af87-2d984c0a1c29",
   "metadata": {},
   "source": [
    "### Mean Deviation"
   ]
  },
  {
   "cell_type": "code",
   "execution_count": 6,
   "id": "85a0a1be-b3a5-4a10-94da-6edeb714337d",
   "metadata": {},
   "outputs": [
    {
     "data": {
      "text/plain": [
       "21.198487712665408"
      ]
     },
     "execution_count": 6,
     "metadata": {},
     "output_type": "execute_result"
    }
   ],
   "source": [
    "# Mean dari data\n",
    "mean = np.mean(data['nilai'])\n",
    "\n",
    "# Hitung deviasi setiap nilai terhadap mean\n",
    "deviations = [abs(x - mean) for x in data['nilai']]\n",
    "\n",
    "# Hitung rata-rata deviasi\n",
    "average_deviation_tunggal = np.mean(deviations)\n",
    "average_deviation_tunggal"
   ]
  },
  {
   "cell_type": "markdown",
   "id": "f6142800-360a-40d5-a05c-f62e985e99c9",
   "metadata": {},
   "source": [
    "### Mean, Median, Kuartil, dan Std. Deviation"
   ]
  },
  {
   "cell_type": "code",
   "execution_count": 7,
   "id": "a31a8987-5354-4c25-b31d-d3a470f092bc",
   "metadata": {},
   "outputs": [
    {
     "data": {
      "text/plain": [
       "count    23.000000\n",
       "mean     47.565217\n",
       "std      24.297074\n",
       "min      10.000000\n",
       "25%      25.000000\n",
       "50%      45.000000\n",
       "75%      70.000000\n",
       "max      80.000000\n",
       "Name: nilai, dtype: float64"
      ]
     },
     "execution_count": 7,
     "metadata": {},
     "output_type": "execute_result"
    }
   ],
   "source": [
    "data['nilai'].describe()"
   ]
  },
  {
   "cell_type": "markdown",
   "id": "a195379b-d142-42d5-8ac6-4b1b863fb32e",
   "metadata": {},
   "source": [
    "### Hasil Akhir Tunggal"
   ]
  },
  {
   "cell_type": "code",
   "execution_count": 8,
   "id": "cebdef01-019e-446a-bace-1431cef1bae3",
   "metadata": {},
   "outputs": [
    {
     "name": "stdout",
     "output_type": "stream",
     "text": [
      "modus: 0    70\n",
      "Name: nilai, dtype: int64\n",
      "\n",
      "desil: \n",
      "0.1    17.6\n",
      "0.2    20.0\n",
      "0.3    33.0\n",
      "0.4    40.0\n",
      "0.5    45.0\n",
      "0.6    59.2\n",
      "0.7    70.0\n",
      "0.8    70.0\n",
      "0.9    79.0\n",
      "1.0    80.0\n",
      "Name: nilai, dtype: float64\n",
      "\n",
      "mean deviation: \n",
      "21.198487712665408\n",
      "\n"
     ]
    }
   ],
   "source": [
    "# Hasil akhir\n",
    "# Data Tunggal\n",
    "print(f\"modus: {data['nilai'].mode()}\\n\")\n",
    "print(f\"desil: \\n{desil_tunggal}\\n\")\n",
    "print(f\"mean deviation: \\n{average_deviation_tunggal}\\n\")"
   ]
  },
  {
   "cell_type": "markdown",
   "id": "728859b7-10c2-4ea0-b770-95ac6a441deb",
   "metadata": {},
   "source": [
    "## Data Kelompok"
   ]
  },
  {
   "cell_type": "code",
   "execution_count": 9,
   "id": "2bfb4dd2-b326-45a1-8303-96625fd10afe",
   "metadata": {},
   "outputs": [
    {
     "data": {
      "text/plain": [
       "11"
      ]
     },
     "execution_count": 9,
     "metadata": {},
     "output_type": "execute_result"
    }
   ],
   "source": [
    "# Cari banyak data\n",
    "k = 1 + 3.3 * np.log(len(data['nilai']))\n",
    "k = round(k)\n",
    "k"
   ]
  },
  {
   "cell_type": "code",
   "execution_count": 10,
   "id": "91719427-0171-4d63-9d60-244dbad852cf",
   "metadata": {},
   "outputs": [
    {
     "data": {
      "text/plain": [
       "7"
      ]
     },
     "execution_count": 10,
     "metadata": {},
     "output_type": "execute_result"
    }
   ],
   "source": [
    "# Hitung panjang kelas\n",
    "c = int(np.ceil(J/k))\n",
    "c"
   ]
  },
  {
   "cell_type": "code",
   "execution_count": 11,
   "id": "74255e97-e7a0-41b6-9f2a-30fb1479e648",
   "metadata": {},
   "outputs": [
    {
     "name": "stdout",
     "output_type": "stream",
     "text": [
      "kelas\n",
      "10-17    2\n",
      "17-24    4\n",
      "24-31    1\n",
      "31-38    1\n",
      "38-45    3\n",
      "45-52    2\n",
      "52-59    1\n",
      "59-66    1\n",
      "66-73    4\n",
      "73-80    1\n",
      "80-87    3\n",
      "Name: count, dtype: int64\n"
     ]
    }
   ],
   "source": [
    "# Hitung batas kelas\n",
    "kelas_bawah = [np.min(data['nilai']) + i * c for i in range(k)]\n",
    "kelas_atas = [kelas_bawah[i] + c for i in range(len(kelas_bawah))]\n",
    "\n",
    "# Buat label kelas\n",
    "labels = [f\"{int(kelas_bawah[i])}-{int(kelas_atas[i])}\" for i in range(len(kelas_bawah))]\n",
    "\n",
    "# Tambahkan kolom kelas ke DataFrame\n",
    "data['kelas'] = pd.cut(data['nilai'], bins=[*kelas_bawah, np.inf], labels=labels, right=False)\n",
    "\n",
    "# Tampilkan DataFrame\n",
    "print(data['kelas'].value_counts().sort_index())"
   ]
  },
  {
   "cell_type": "code",
   "execution_count": 12,
   "id": "27eb9b8f-2036-4a99-a3f7-bdc8b22313f2",
   "metadata": {},
   "outputs": [
    {
     "data": {
      "text/plain": [
       "[13.5, 20.5, 27.5, 34.5, 41.5, 48.5, 55.5, 62.5, 69.5, 76.5, 83.5]"
      ]
     },
     "execution_count": 12,
     "metadata": {},
     "output_type": "execute_result"
    }
   ],
   "source": [
    "# Hitung nilai tengah setiap kelompok\n",
    "xi = [(kelas_bawah[i] + kelas_atas[i]) / 2 for i in range(len(kelas_bawah))]\n",
    "xi"
   ]
  },
  {
   "cell_type": "code",
   "execution_count": 13,
   "id": "314ce36d-fce0-46d1-afbb-c4d63f5803f8",
   "metadata": {},
   "outputs": [
    {
     "data": {
      "text/plain": [
       "[2, 4, 1, 1, 3, 2, 1, 1, 4, 1, 3]"
      ]
     },
     "execution_count": 13,
     "metadata": {},
     "output_type": "execute_result"
    }
   ],
   "source": [
    "# Hitung frekuensi\n",
    "fi = [data['kelas'].value_counts().sort_index().iloc[i] for i in range(0, 11)]\n",
    "fi"
   ]
  },
  {
   "cell_type": "code",
   "execution_count": 14,
   "id": "018e473d-0c57-46d0-94d7-763eb3022f49",
   "metadata": {},
   "outputs": [
    {
     "data": {
      "text/plain": [
       "[27.0, 82.0, 27.5, 34.5, 124.5, 97.0, 55.5, 62.5, 278.0, 76.5, 250.5]"
      ]
     },
     "execution_count": 14,
     "metadata": {},
     "output_type": "execute_result"
    }
   ],
   "source": [
    "fixi = [fi[i] * xi[i] for i in range(0, 11)]\n",
    "fixi"
   ]
  },
  {
   "cell_type": "markdown",
   "id": "dd7735ed-d32b-4995-8d64-cae100aea87a",
   "metadata": {},
   "source": [
    "### Mean"
   ]
  },
  {
   "cell_type": "code",
   "execution_count": 15,
   "id": "b2f0db55-9df8-4ab2-95eb-c6aa813b1070",
   "metadata": {},
   "outputs": [
    {
     "data": {
      "text/plain": [
       "48.5"
      ]
     },
     "execution_count": 15,
     "metadata": {},
     "output_type": "execute_result"
    }
   ],
   "source": [
    "mean_kel = sum(fixi)/sum(fi)\n",
    "mean_kel"
   ]
  },
  {
   "cell_type": "markdown",
   "id": "37d76e8e-3228-4cfc-8b62-7a0c67720ae9",
   "metadata": {},
   "source": [
    "### Median"
   ]
  },
  {
   "cell_type": "code",
   "execution_count": 16,
   "id": "3c9fd674-8f84-4224-a76c-6849ad70dae5",
   "metadata": {},
   "outputs": [
    {
     "data": {
      "text/plain": [
       "11.5"
      ]
     },
     "execution_count": 16,
     "metadata": {},
     "output_type": "execute_result"
    }
   ],
   "source": [
    "jumlah_data = len(data['nilai'])\n",
    "nilai_tengah = jumlah_data/2\n",
    "nilai_tengah"
   ]
  },
  {
   "cell_type": "code",
   "execution_count": 17,
   "id": "ea6b65a4-1fe7-42ef-a09f-8bc62f40c1ef",
   "metadata": {},
   "outputs": [
    {
     "data": {
      "text/plain": [
       "kelas\n",
       "10-17     2\n",
       "17-24     6\n",
       "24-31     7\n",
       "31-38     8\n",
       "38-45    11\n",
       "45-52    13\n",
       "52-59    14\n",
       "59-66    15\n",
       "66-73    19\n",
       "73-80    20\n",
       "80-87    23\n",
       "Name: count, dtype: int64"
      ]
     },
     "execution_count": 17,
     "metadata": {},
     "output_type": "execute_result"
    }
   ],
   "source": [
    "# Hitung frekuensi untuk setiap nilai\n",
    "frekuensi = data['kelas'].value_counts().sort_index()\n",
    "\n",
    "# Hitung frekuensi kumulatif\n",
    "frekuensi_kumulatif = frekuensi.cumsum()\n",
    "frekuensi_kumulatif"
   ]
  },
  {
   "cell_type": "code",
   "execution_count": 18,
   "id": "3d3b2822-57d6-41b9-add3-5f43aa628e3c",
   "metadata": {},
   "outputs": [
    {
     "data": {
      "text/plain": [
       "'45-52'"
      ]
     },
     "execution_count": 18,
     "metadata": {},
     "output_type": "execute_result"
    }
   ],
   "source": [
    "### Menghitung kelas median\n",
    "kelas_median = None\n",
    "for i in range(len(frekuensi_kumulatif)):\n",
    "    if frekuensi_kumulatif.iloc[i] >= jumlah_data / 2:\n",
    "        kelas_median_index = i\n",
    "        kelas_median = frekuensi.index[i]\n",
    "        break\n",
    "kelas_median"
   ]
  },
  {
   "cell_type": "code",
   "execution_count": 19,
   "id": "42450b7f-251c-4138-81f0-b359791a27ee",
   "metadata": {},
   "outputs": [
    {
     "data": {
      "text/plain": [
       "46.25"
      ]
     },
     "execution_count": 19,
     "metadata": {},
     "output_type": "execute_result"
    }
   ],
   "source": [
    "# Tentukan kelompok_median\n",
    "median_kel = (kelas_bawah[i]-0.5) + ((jumlah_data / 2 - frekuensi_kumulatif.iloc[kelas_median_index - 1]) / frekuensi.iloc[kelas_median_index]) * c\n",
    "median_kel"
   ]
  },
  {
   "cell_type": "markdown",
   "id": "b0f9d4aa-e902-44b3-bd24-1222da4b4666",
   "metadata": {},
   "source": [
    "### Modus"
   ]
  },
  {
   "cell_type": "code",
   "execution_count": 20,
   "id": "a931016e-e7a9-49b8-aace-185c3768b824",
   "metadata": {},
   "outputs": [
    {
     "data": {
      "text/plain": [
       "('17-24', 19.3)"
      ]
     },
     "execution_count": 20,
     "metadata": {},
     "output_type": "execute_result"
    }
   ],
   "source": [
    "# Temukan kelas dengan frekuensi tertinggi\n",
    "kelas_modus = frekuensi.idxmax()\n",
    "\n",
    "# Temukan indeks kelas modus\n",
    "indeks_modus = labels.index(kelas_modus)\n",
    "\n",
    "# Inisialisasi variabel f_0 dan f_2\n",
    "if indeks_modus == 0:\n",
    "    f_0 = 0\n",
    "else:\n",
    "    f_0 = frekuensi.iloc[indeks_modus - 1]\n",
    "\n",
    "if indeks_modus == len(labels) - 1:\n",
    "    f_2 = 0\n",
    "else:\n",
    "    f_2 = frekuensi.iloc[indeks_modus + 1]\n",
    "\n",
    "# Hitung modus\n",
    "L_modus = kelas_bawah[indeks_modus] - 0.5  # Batas bawah kelas modus\n",
    "f_modus = frekuensi.iloc[indeks_modus]  # Frekuensi kelas modus\n",
    "\n",
    "b1 = (f_modus - f_0)\n",
    "b2 = (f_modus - f_2)\n",
    "\n",
    "# Hitung modus menggunakan formula\n",
    "modus_kel = (L_modus) + (b1 / (b1 + b2)) * c\n",
    "\n",
    "kelas_modus, modus_kel"
   ]
  },
  {
   "cell_type": "markdown",
   "id": "e25f3bd8-ca75-4d9c-b862-eaf6d1a68921",
   "metadata": {},
   "source": [
    "### Kuartil"
   ]
  },
  {
   "cell_type": "code",
   "execution_count": 21,
   "id": "6782efdf-d4f8-40b4-8e72-f183fe236132",
   "metadata": {},
   "outputs": [],
   "source": [
    "letak_q1 = 1/4*len(data['nilai'])\n",
    "letak_q2 = 2/4*len(data['nilai'])\n",
    "letak_q3 = 3/4*len(data['nilai'])\n",
    "letak_q4 = 4/4*len(data['nilai'])"
   ]
  },
  {
   "cell_type": "code",
   "execution_count": 22,
   "id": "394eeba1-6ce0-4ae3-b66f-218c610acf1d",
   "metadata": {},
   "outputs": [
    {
     "name": "stdout",
     "output_type": "stream",
     "text": [
      "Kelas bawah Kuartil: [17, 45, 66, 80]\n",
      "Frekuensi Kuartil: [4, 2, 4, 3]\n",
      "FK sebelum kelas bawah: [2, 11, 15, 20]\n"
     ]
    }
   ],
   "source": [
    "kelas_kuartil = []\n",
    "fk_sebelum_kelas_bawah = []\n",
    "f_kuartil = []\n",
    "\n",
    "# Menghitung kelas kuartil\n",
    "for letak_q in [letak_q1, letak_q2, letak_q3, letak_q4]:\n",
    "    for i in range(len(frekuensi_kumulatif)):\n",
    "        if frekuensi_kumulatif.iloc[i] >= letak_q:\n",
    "            kelas_kuartil.append(kelas_bawah[i])\n",
    "            fk_sebelum_kelas_bawah.append(frekuensi_kumulatif.iloc[i-1])\n",
    "            f_kuartil.append(frekuensi.iloc[i])\n",
    "            break\n",
    "\n",
    "print(\"Kelas bawah Kuartil:\", kelas_kuartil)\n",
    "print(\"Frekuensi Kuartil:\", f_kuartil)\n",
    "print(\"FK sebelum kelas bawah:\", fk_sebelum_kelas_bawah)"
   ]
  },
  {
   "cell_type": "code",
   "execution_count": 23,
   "id": "e38b9b69-97c2-43ff-9b9f-1f384da246a5",
   "metadata": {},
   "outputs": [
    {
     "name": "stdout",
     "output_type": "stream",
     "text": [
      "kelas\n",
      "10-17    2\n",
      "17-24    4\n",
      "24-31    1\n",
      "31-38    1\n",
      "38-45    3\n",
      "45-52    2\n",
      "52-59    1\n",
      "59-66    1\n",
      "66-73    4\n",
      "73-80    1\n",
      "80-87    3\n",
      "Name: count, dtype: int64\n"
     ]
    }
   ],
   "source": [
    "print(data['kelas'].value_counts().sort_index())"
   ]
  },
  {
   "cell_type": "code",
   "execution_count": 24,
   "id": "c614a5ba-3de2-4931-a4c3-162616a8471d",
   "metadata": {},
   "outputs": [],
   "source": [
    "kuartil_kel = []\n",
    "for i in range(1, 5):\n",
    "    nilai_kuartil = (kelas_kuartil[i-1] - 0.5) + ((i * len(data['nilai']) / 4 - fk_sebelum_kelas_bawah[i-1]) / f_kuartil[i-1]) * c\n",
    "    kuartil_kel.append(nilai_kuartil)"
   ]
  },
  {
   "cell_type": "code",
   "execution_count": 25,
   "id": "1b81d102-c40a-444a-a3a8-ce844dacf33e",
   "metadata": {},
   "outputs": [
    {
     "data": {
      "text/plain": [
       "[23.0625, 46.25, 69.4375, 86.5]"
      ]
     },
     "execution_count": 25,
     "metadata": {},
     "output_type": "execute_result"
    }
   ],
   "source": [
    "kuartil_kel"
   ]
  },
  {
   "cell_type": "markdown",
   "id": "c3a5dde2-3e10-4283-b1af-413f34c3f62c",
   "metadata": {},
   "source": [
    "### Desil"
   ]
  },
  {
   "cell_type": "code",
   "execution_count": 26,
   "id": "81d242d4-4317-42db-bdf4-2f4b10c3d64c",
   "metadata": {},
   "outputs": [
    {
     "data": {
      "text/plain": [
       "[2.3000000000000003,\n",
       " 4.6000000000000005,\n",
       " 6.8999999999999995,\n",
       " 9.200000000000001,\n",
       " 11.5,\n",
       " 13.799999999999999,\n",
       " 16.099999999999998,\n",
       " 18.400000000000002,\n",
       " 20.7,\n",
       " 23.0]"
      ]
     },
     "execution_count": 26,
     "metadata": {},
     "output_type": "execute_result"
    }
   ],
   "source": [
    "letak_desil = []\n",
    "for i in range(1, 11):\n",
    "    letak_desil.append(i/10*len(data['nilai']))\n",
    "letak_desil"
   ]
  },
  {
   "cell_type": "code",
   "execution_count": 27,
   "id": "1efe7c1a-1073-4f43-a512-f0e502031371",
   "metadata": {},
   "outputs": [
    {
     "name": "stdout",
     "output_type": "stream",
     "text": [
      "Kelas bawah desil: [17, 17, 24, 38, 45, 52, 66, 66, 80, 80]\n",
      "Frekuensi desil: [4, 4, 1, 3, 2, 1, 4, 4, 3, 3]\n",
      "FK sebelum kelas bawah: [2, 2, 6, 8, 11, 13, 15, 15, 20, 20]\n"
     ]
    }
   ],
   "source": [
    "kelas_desil = []\n",
    "fk_sebelum_kelas_desil = []\n",
    "f_desil = []\n",
    "\n",
    "# Menghitung kelas desil\n",
    "for letak_d in letak_desil:\n",
    "    for i in range(len(frekuensi_kumulatif)):\n",
    "        if frekuensi_kumulatif.iloc[i] >= letak_d:\n",
    "            kelas_desil.append(kelas_bawah[i])\n",
    "            if i == 0:\n",
    "                fk_sebelum_kelas_desil.append(0)  # Dimulai dari nol jika kelas pertama\n",
    "            else:\n",
    "                fk_sebelum_kelas_desil.append(frekuensi_kumulatif.iloc[i-1])  # Gunakan nilai sebelumnya\n",
    "            f_desil.append(frekuensi.iloc[i])\n",
    "            break\n",
    "\n",
    "print(\"Kelas bawah desil:\", kelas_desil)\n",
    "print(\"Frekuensi desil:\", f_desil)\n",
    "print(\"FK sebelum kelas bawah:\", fk_sebelum_kelas_desil)\n"
   ]
  },
  {
   "cell_type": "code",
   "execution_count": 28,
   "id": "2da55cea-9eb3-4bbc-95b1-05693932f2d1",
   "metadata": {},
   "outputs": [
    {
     "name": "stdout",
     "output_type": "stream",
     "text": [
      "kelas\n",
      "10-17    2\n",
      "17-24    4\n",
      "24-31    1\n",
      "31-38    1\n",
      "38-45    3\n",
      "45-52    2\n",
      "52-59    1\n",
      "59-66    1\n",
      "66-73    4\n",
      "73-80    1\n",
      "80-87    3\n",
      "Name: count, dtype: int64\n"
     ]
    }
   ],
   "source": [
    "print(data['kelas'].value_counts().sort_index())"
   ]
  },
  {
   "cell_type": "code",
   "execution_count": 29,
   "id": "200e797b-42b2-44f1-b0f7-3e3d9a4da829",
   "metadata": {},
   "outputs": [
    {
     "data": {
      "text/plain": [
       "[17.025,\n",
       " 21.049999999999997,\n",
       " 29.800000000000004,\n",
       " 40.3,\n",
       " 46.25,\n",
       " 57.10000000000001,\n",
       " 67.425,\n",
       " 71.45,\n",
       " 81.13333333333333,\n",
       " 86.5]"
      ]
     },
     "execution_count": 29,
     "metadata": {},
     "output_type": "execute_result"
    }
   ],
   "source": [
    "desil_kel = []\n",
    "for i in range(1, 11):\n",
    "    nilai_desil = (kelas_desil[i-1] - 0.5) + ((i * len(data['nilai']) / 10 - fk_sebelum_kelas_desil[i-1]) / f_desil[i-1]) * c\n",
    "    desil_kel.append(nilai_desil)\n",
    "\n",
    "desil_kel\n"
   ]
  },
  {
   "cell_type": "markdown",
   "id": "49ae131c-7d11-44c7-a68b-bbf29a4f58f1",
   "metadata": {},
   "source": [
    "### Mean Deviation"
   ]
  },
  {
   "cell_type": "code",
   "execution_count": 30,
   "id": "e2fb3df8-f60f-45fe-876f-797d2b13d467",
   "metadata": {},
   "outputs": [
    {
     "data": {
      "text/plain": [
       "[27.0, 82.0, 27.5, 34.5, 124.5, 97.0, 55.5, 62.5, 278.0, 76.5, 250.5]"
      ]
     },
     "execution_count": 30,
     "metadata": {},
     "output_type": "execute_result"
    }
   ],
   "source": [
    "fixi"
   ]
  },
  {
   "cell_type": "code",
   "execution_count": 31,
   "id": "deffb768-d99c-43d9-9eca-dec058877d48",
   "metadata": {},
   "outputs": [
    {
     "data": {
      "text/plain": [
       "[35.0, 28.0, 21.0, 14.0, 7.0, 0.0, 7.0, 14.0, 21.0, 28.0, 35.0]"
      ]
     },
     "execution_count": 31,
     "metadata": {},
     "output_type": "execute_result"
    }
   ],
   "source": [
    "xi_min_mean = []\n",
    "for i in xi:\n",
    "    xi_min_mean.append(abs(i - mean_kel))\n",
    "xi_min_mean"
   ]
  },
  {
   "cell_type": "code",
   "execution_count": 32,
   "id": "e307d3b1-08df-4883-a393-8544b6138662",
   "metadata": {},
   "outputs": [
    {
     "data": {
      "text/plain": [
       "[70.0, 112.0, 21.0, 14.0, 21.0, 0.0, 7.0, 14.0, 84.0, 28.0, 105.0]"
      ]
     },
     "execution_count": 32,
     "metadata": {},
     "output_type": "execute_result"
    }
   ],
   "source": [
    "fi_xi_min_mean = []\n",
    "for i in range(k):\n",
    "    fi_xi_min_mean.append((data['kelas'].value_counts().sort_index().iloc[i]) * xi_min_mean[i])\n",
    "fi_xi_min_mean"
   ]
  },
  {
   "cell_type": "code",
   "execution_count": 33,
   "id": "b3bfbd20-f62a-44ae-a08e-98e0c769e500",
   "metadata": {},
   "outputs": [
    {
     "data": {
      "text/plain": [
       "20.695652173913043"
      ]
     },
     "execution_count": 33,
     "metadata": {},
     "output_type": "execute_result"
    }
   ],
   "source": [
    "md = sum(fi_xi_min_mean)/len(data['nilai'])\n",
    "md"
   ]
  },
  {
   "cell_type": "markdown",
   "id": "55243394-ec91-47aa-9529-b3fd20dbf0e7",
   "metadata": {},
   "source": [
    "### Std. Deviation"
   ]
  },
  {
   "cell_type": "code",
   "execution_count": 34,
   "id": "0ad1a16a-7b11-4875-b72d-2f81035eaa12",
   "metadata": {},
   "outputs": [
    {
     "data": {
      "text/plain": [
       "[1225.0, 784.0, 441.0, 196.0, 49.0, 0.0, 49.0, 196.0, 441.0, 784.0, 1225.0]"
      ]
     },
     "execution_count": 34,
     "metadata": {},
     "output_type": "execute_result"
    }
   ],
   "source": [
    "xi_min_mean_std = []\n",
    "for i in xi:\n",
    "    xi_min_mean_std.append((i - mean_kel)**2)\n",
    "xi_min_mean_std"
   ]
  },
  {
   "cell_type": "code",
   "execution_count": 35,
   "id": "979d67b3-13ac-4118-aa75-400becb85aa6",
   "metadata": {},
   "outputs": [
    {
     "data": {
      "text/plain": [
       "[2450.0, 3136.0, 441.0, 196.0, 147.0, 0.0, 49.0, 196.0, 1764.0, 784.0, 3675.0]"
      ]
     },
     "execution_count": 35,
     "metadata": {},
     "output_type": "execute_result"
    }
   ],
   "source": [
    "fi_xi_min_mean_std = []\n",
    "for i in range(k):\n",
    "    fi_xi_min_mean_std.append((data['kelas'].value_counts().sort_index().iloc[i]) * xi_min_mean_std[i])\n",
    "fi_xi_min_mean_std"
   ]
  },
  {
   "cell_type": "code",
   "execution_count": 36,
   "id": "131be257-6534-42aa-8612-36df2138e9a7",
   "metadata": {},
   "outputs": [
    {
     "data": {
      "text/plain": [
       "583.5454545454545"
      ]
     },
     "execution_count": 36,
     "metadata": {},
     "output_type": "execute_result"
    }
   ],
   "source": [
    "S_kuadrat = sum(fi_xi_min_mean_std)/(len(data['nilai'])-1)\n",
    "S_kuadrat"
   ]
  },
  {
   "cell_type": "code",
   "execution_count": 37,
   "id": "77329e2b-a046-4c98-a138-a948ef3bec78",
   "metadata": {},
   "outputs": [
    {
     "data": {
      "text/plain": [
       "24.15668550413021"
      ]
     },
     "execution_count": 37,
     "metadata": {},
     "output_type": "execute_result"
    }
   ],
   "source": [
    "S = np.sqrt(S_kuadrat)\n",
    "S"
   ]
  },
  {
   "cell_type": "markdown",
   "id": "5624f100-fa5b-4ec7-a4b6-9f547ed118ed",
   "metadata": {},
   "source": [
    "### Hasil Akhir Kelompok"
   ]
  },
  {
   "cell_type": "code",
   "execution_count": 38,
   "id": "4e6e4ff9-d730-468f-b73e-c7868b22ec05",
   "metadata": {},
   "outputs": [
    {
     "name": "stdout",
     "output_type": "stream",
     "text": [
      "mean: 48.5\n",
      "median: 46.25\n",
      "modus: 19.3\n",
      "kuartil: [23.0625, 46.25, 69.4375, 86.5]\n",
      "desil: [17.025, 21.049999999999997, 29.800000000000004, 40.3, 46.25, 57.10000000000001, 67.425, 71.45, 81.13333333333333, 86.5]\n",
      "mean deviation: 20.695652173913043\n",
      "std. deviation: 24.15668550413021\n"
     ]
    }
   ],
   "source": [
    "print(f\"mean: {mean_kel}\")\n",
    "print(f\"median: {median_kel}\")\n",
    "print(f\"modus: {modus_kel}\")\n",
    "print(f\"kuartil: {kuartil_kel}\")\n",
    "print(f\"desil: {desil_kel}\")\n",
    "print(f\"mean deviation: {md}\")\n",
    "print(f\"std. deviation: {S}\")"
   ]
  },
  {
   "cell_type": "code",
   "execution_count": null,
   "id": "78ff5db1-454d-4929-81da-ebde94cc1a4e",
   "metadata": {},
   "outputs": [],
   "source": []
  }
 ],
 "metadata": {
  "kernelspec": {
   "display_name": "Python 3 (ipykernel)",
   "language": "python",
   "name": "python3"
  },
  "language_info": {
   "codemirror_mode": {
    "name": "ipython",
    "version": 3
   },
   "file_extension": ".py",
   "mimetype": "text/x-python",
   "name": "python",
   "nbconvert_exporter": "python",
   "pygments_lexer": "ipython3",
   "version": "3.11.4"
  }
 },
 "nbformat": 4,
 "nbformat_minor": 5
}
